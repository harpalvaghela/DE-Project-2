{
 "cells": [
  {
   "cell_type": "markdown",
   "metadata": {
    "application/vnd.databricks.v1+cell": {
     "cellMetadata": {
      "byteLimit": 2048000,
      "rowLimit": 10000
     },
     "inputWidgets": {},
     "nuid": "eacb4c35-a0b7-4c41-b6e4-8d8752f65b60",
     "showTitle": false,
     "tableResultSettingsMap": {},
     "title": ""
    }
   },
   "source": [
    "## Bronze to Silver Layer\n",
    "-------------------"
   ]
  },
  {
   "cell_type": "markdown",
   "metadata": {
    "application/vnd.databricks.v1+cell": {
     "cellMetadata": {
      "byteLimit": 2048000,
      "rowLimit": 10000
     },
     "inputWidgets": {},
     "nuid": "bfa2c2de-7f47-4470-8e18-88b8d51ee86c",
     "showTitle": false,
     "tableResultSettingsMap": {},
     "title": ""
    }
   },
   "source": [
    "##### Run notebook via %run magic command"
   ]
  },
  {
   "cell_type": "code",
   "execution_count": 0,
   "metadata": {
    "application/vnd.databricks.v1+cell": {
     "cellMetadata": {
      "byteLimit": 2048000,
      "rowLimit": 10000
     },
     "inputWidgets": {},
     "nuid": "c3e857a4-0b9c-4113-b13c-68e88772ea49",
     "showTitle": true,
     "tableResultSettingsMap": {},
     "title": "Run notebook via %run magic command"
    },
    "jupyter": {
     "outputs_hidden": true
    }
   },
   "outputs": [],
   "source": [
    "%run \"./1_Mount Point and Functions\""
   ]
  },
  {
   "cell_type": "markdown",
   "metadata": {
    "application/vnd.databricks.v1+cell": {
     "cellMetadata": {
      "byteLimit": 2048000,
      "rowLimit": 10000
     },
     "inputWidgets": {},
     "nuid": "6d92a8e1-b2f8-4919-9568-18583062f4fa",
     "showTitle": false,
     "tableResultSettingsMap": {},
     "title": ""
    }
   },
   "source": [
    "##### Take File Backup"
   ]
  },
  {
   "cell_type": "code",
   "execution_count": 0,
   "metadata": {
    "application/vnd.databricks.v1+cell": {
     "cellMetadata": {
      "byteLimit": 2048000,
      "rowLimit": 10000
     },
     "inputWidgets": {},
     "nuid": "8453ae1c-a450-46ad-ab74-bbcf5cd86720",
     "showTitle": true,
     "tableResultSettingsMap": {},
     "title": "Take Backup of files"
    }
   },
   "outputs": [],
   "source": [
    "backup_bronze_csv_to_backup_folder()"
   ]
  },
  {
   "cell_type": "markdown",
   "metadata": {
    "application/vnd.databricks.v1+cell": {
     "cellMetadata": {
      "byteLimit": 2048000,
      "rowLimit": 10000
     },
     "inputWidgets": {},
     "nuid": "56b460fc-9ccd-4029-bdcd-81f646a1b59b",
     "showTitle": false,
     "tableResultSettingsMap": {},
     "title": ""
    }
   },
   "source": [
    "##### Assign Schema, Do Transformation, and Store cleaned data files into Silver Layer"
   ]
  },
  {
   "cell_type": "code",
   "execution_count": 0,
   "metadata": {
    "application/vnd.databricks.v1+cell": {
     "cellMetadata": {
      "byteLimit": 2048000,
      "rowLimit": 10000
     },
     "inputWidgets": {},
     "nuid": "090677e6-665c-46c2-8eb8-e2d8242ee682",
     "showTitle": true,
     "tableResultSettingsMap": {},
     "title": "Assign Schema, Transformation, and Store into Silver Layer"
    }
   },
   "outputs": [],
   "source": [
    "file_name_list = list_csv_files_in_bronze(bronze_base_path)\n",
    "print(f\"File Name List : {file_name_list}\")\n",
    "\n",
    "# Loop through each file\n",
    "cleaned_dfs = []\n",
    "\n",
    "for file_name in file_name_list:\n",
    "    \n",
    "    # Get schema for the file\n",
    "    schema = get_schema(file_name)\n",
    "\n",
    "    # Read CSV with header and schema\n",
    "    df = spark.read.format(\"csv\") \\\n",
    "        .option(\"header\", True) \\\n",
    "        .schema(schema) \\\n",
    "        .load(f\"{bronze_base_path}{file_name}\")\n",
    "\n",
    "   # Define id columns and default values for each file\n",
    "    if file_name == \"customers.csv\":\n",
    "        id_cols = [\"customer_id\"]\n",
    "        defaults = {\"city\": \"Unknown\", \"state\": \"Unknown\", \"zip\": \"Unknown\"}\n",
    "\n",
    "    elif file_name == \"accounts.csv\":\n",
    "        id_cols = [\"account_id\", \"customer_id\"]\n",
    "        defaults = {\"balance\": 0.0}\n",
    "\n",
    "    elif file_name == \"loans.csv\":\n",
    "        id_cols = [\"loan_id\", \"customer_id\"]\n",
    "        defaults = {\"loan_amount\": 0.0}\n",
    "\n",
    "    elif file_name == \"transactions.csv\":\n",
    "        id_cols = [\"transaction_id\", \"account_id\"]\n",
    "        defaults = {\"transaction_amount\": 0.0, \"transaction_type\": \"Unknown\"}\n",
    "\n",
    "    elif file_name == \"loan_payments.csv\":\n",
    "        id_cols = [\"payment_id\", \"loan_id\"]\n",
    "        defaults = {\"payment_amount\": 0}\n",
    "\n",
    "    else:\n",
    "        print(f\"Skipping unknown file: {file_name}\")\n",
    "        continue\n",
    "\n",
    "    # Apply transformations/data cleaning\n",
    "    df_filtered = filter_nulls(df, id_cols)\n",
    "    df_transformed = replace_nulls_with_defaults(df_filtered, defaults)\n",
    "    df_final = remove_duplicates(df_transformed, id_cols)\n",
    "\n",
    "    #write file to silver layer\n",
    "    write_single_parquet_file(df_final, file_name, silver_base_path)\n",
    "    \n",
    "    #show preview\n",
    "    #df_final.show(5)\n"
   ]
  },
  {
   "cell_type": "markdown",
   "metadata": {
    "application/vnd.databricks.v1+cell": {
     "cellMetadata": {
      "byteLimit": 2048000,
      "rowLimit": 10000
     },
     "inputWidgets": {},
     "nuid": "1df7ce76-6726-4435-80cd-a526c88da2a8",
     "showTitle": false,
     "tableResultSettingsMap": {},
     "title": ""
    }
   },
   "source": [
    "DELTA Table for Data Visualization:\n",
    "----------------------------------------"
   ]
  },
  {
   "cell_type": "markdown",
   "metadata": {
    "application/vnd.databricks.v1+cell": {
     "cellMetadata": {
      "byteLimit": 2048000,
      "rowLimit": 10000
     },
     "inputWidgets": {},
     "nuid": "3ae051ad-7416-4823-bf16-8c6ef262461b",
     "showTitle": false,
     "tableResultSettingsMap": {},
     "title": ""
    }
   },
   "source": [
    "##### Inner Join Condition"
   ]
  },
  {
   "cell_type": "code",
   "execution_count": 0,
   "metadata": {
    "application/vnd.databricks.v1+cell": {
     "cellMetadata": {
      "byteLimit": 2048000,
      "rowLimit": 10000
     },
     "inputWidgets": {},
     "nuid": "0dd298c5-5ab4-495c-838b-8ddd89ba93bc",
     "showTitle": true,
     "tableResultSettingsMap": {},
     "title": "Inner Join Condition"
    },
    "jupyter": {
     "outputs_hidden": true
    }
   },
   "outputs": [],
   "source": [
    "#Read all files from silver layer and store in a dataframe\n",
    "df_accounts = read_silver_layer_files(\"accounts\")\n",
    "df_customers = read_silver_layer_files(\"customers\")\n",
    "df_loans = read_silver_layer_files(\"loans\")\n",
    "df_loan_payments = read_silver_layer_files(\"loan_payments\")\n",
    "df_transactions = read_silver_layer_files(\"transactions\")\n",
    "\n",
    "df_combined = (\n",
    "    df_accounts.join(df_customers, on=\"customer_id\", how=\"inner\")\n",
    "        .join(df_transactions, on=\"account_id\", how=\"inner\")\n",
    "        .join(df_loans, on=\"customer_id\", how=\"inner\")\n",
    "        .join(df_loan_payments, on=\"loan_id\", how=\"inner\")\n",
    ")\n",
    "\n",
    "# Show result\n",
    "#display(df_combined)"
   ]
  },
  {
   "cell_type": "markdown",
   "metadata": {
    "application/vnd.databricks.v1+cell": {
     "cellMetadata": {
      "byteLimit": 2048000,
      "rowLimit": 10000
     },
     "inputWidgets": {},
     "nuid": "5dc8d900-d362-4f03-bc46-e461e898a59f",
     "showTitle": false,
     "tableResultSettingsMap": {},
     "title": ""
    }
   },
   "source": [
    "##### Select Required Columns"
   ]
  },
  {
   "cell_type": "code",
   "execution_count": 0,
   "metadata": {
    "application/vnd.databricks.v1+cell": {
     "cellMetadata": {
      "byteLimit": 2048000,
      "rowLimit": 10000
     },
     "inputWidgets": {},
     "nuid": "4017e835-1eac-41d0-9206-9db35229f8c0",
     "showTitle": false,
     "tableResultSettingsMap": {},
     "title": ""
    },
    "jupyter": {
     "outputs_hidden": true
    }
   },
   "outputs": [],
   "source": [
    "# Select Required Columns\n",
    "\n",
    "df_selected_columns = df_combined.select(\n",
    "    col(\"account_id\").alias(\"Account_ID\"),\n",
    "    col(\"customer_id\").alias(\"Customer_ID\"),\n",
    "    col(\"loan_id\").alias(\"Loan_ID\"),\n",
    "    col(\"payment_id\").alias(\"Payment_ID\"),\n",
    "    col(\"transaction_id\").alias(\"Transaction_ID\"),\n",
    "    col(\"balance\").alias(\"Account_Balance\"),\n",
    "    col(\"payment_amount\").alias(\"Payment_Amount\"),\n",
    "    col(\"loan_amount\").alias(\"Loan_Amount\"),\n",
    "    col(\"transaction_amount\").alias(\"Transaction_Amount\"),\n",
    "    col(\"payment_date\").alias(\"Payment_Date\"),\n",
    "    col(\"transaction_date\").alias(\"Transaction_Date\")\n",
    ")\n",
    "#display(df_selected_columns)"
   ]
  },
  {
   "cell_type": "markdown",
   "metadata": {
    "application/vnd.databricks.v1+cell": {
     "cellMetadata": {
      "byteLimit": 2048000,
      "rowLimit": 10000
     },
     "inputWidgets": {},
     "nuid": "4e7c9135-9470-4163-becb-8f16f412cb11",
     "showTitle": false,
     "tableResultSettingsMap": {},
     "title": ""
    }
   },
   "source": [
    "##### Store the output in DELTA format in Silver Layer"
   ]
  },
  {
   "cell_type": "code",
   "execution_count": 0,
   "metadata": {
    "application/vnd.databricks.v1+cell": {
     "cellMetadata": {
      "byteLimit": 2048000,
      "rowLimit": 10000
     },
     "inputWidgets": {},
     "nuid": "425b69b3-bbed-40f2-979d-714086dff21d",
     "showTitle": true,
     "tableResultSettingsMap": {},
     "title": "Store it in DELTA format in Silver Layer"
    }
   },
   "outputs": [],
   "source": [
    "df_selected_columns.write.format(\"delta\").mode(\"overwrite\").save(f\"{silver_base_path}PowerBiDataSource\")"
   ]
  },
  {
   "cell_type": "code",
   "execution_count": 0,
   "metadata": {
    "application/vnd.databricks.v1+cell": {
     "cellMetadata": {
      "byteLimit": 2048000,
      "implicitDf": true,
      "rowLimit": 10000
     },
     "inputWidgets": {},
     "nuid": "fa9338fa-9475-4285-ab7a-6581692c1e6a",
     "showTitle": false,
     "tableResultSettingsMap": {},
     "title": ""
    }
   },
   "outputs": [],
   "source": [
    "%sql\n",
    "CREATE TABLE IF NOT EXISTS hive_metastore.bankdb.PowerBiDataSource\n",
    "USING DELTA\n",
    "LOCATION '/mnt/project2/silver/PowerBiDataSource';"
   ]
  },
  {
   "cell_type": "code",
   "execution_count": 0,
   "metadata": {
    "application/vnd.databricks.v1+cell": {
     "cellMetadata": {
      "byteLimit": 2048000,
      "implicitDf": true,
      "rowLimit": 10000
     },
     "inputWidgets": {},
     "nuid": "ff5c3c9b-5515-4776-bc9b-9cba0a2f3936",
     "showTitle": false,
     "tableResultSettingsMap": {},
     "title": ""
    }
   },
   "outputs": [],
   "source": [
    "%sql\n",
    "--SELECT * FROM hive_metastore.bankdb.PowerBiDataSource;"
   ]
  },
  {
   "cell_type": "markdown",
   "metadata": {
    "application/vnd.databricks.v1+cell": {
     "cellMetadata": {
      "byteLimit": 2048000,
      "rowLimit": 10000
     },
     "inputWidgets": {},
     "nuid": "b5239ff9-1f94-4b0c-914c-02a2231120ac",
     "showTitle": false,
     "tableResultSettingsMap": {},
     "title": ""
    }
   },
   "source": [
    "## SCD Type 1 Logic"
   ]
  },
  {
   "cell_type": "markdown",
   "metadata": {
    "application/vnd.databricks.v1+cell": {
     "cellMetadata": {
      "byteLimit": 2048000,
      "rowLimit": 10000
     },
     "inputWidgets": {},
     "nuid": "9840419e-6f6f-4164-91b4-bbb702f5f1c3",
     "showTitle": false,
     "tableResultSettingsMap": {},
     "title": ""
    }
   },
   "source": [
    "##### Run notebook via %run magic command"
   ]
  },
  {
   "cell_type": "code",
   "execution_count": 0,
   "metadata": {
    "application/vnd.databricks.v1+cell": {
     "cellMetadata": {
      "byteLimit": 2048000,
      "rowLimit": 10000
     },
     "inputWidgets": {},
     "nuid": "ac1b292c-df4b-4193-9d2f-68aba09dedb2",
     "showTitle": false,
     "tableResultSettingsMap": {},
     "title": ""
    },
    "jupyter": {
     "outputs_hidden": true
    }
   },
   "outputs": [],
   "source": [
    "# %run \"./3_Silver to Gold Layer SCD Type 1\""
   ]
  }
 ],
 "metadata": {
  "application/vnd.databricks.v1+notebook": {
   "computePreferences": null,
   "dashboards": [],
   "environmentMetadata": {
    "base_environment": "",
    "environment_version": "2"
   },
   "inputWidgetPreferences": null,
   "language": "python",
   "notebookMetadata": {
    "mostRecentlyExecutedCommandWithImplicitDF": {
     "commandId": 6151413167211159,
     "dataframes": [
      "_sqldf"
     ]
    },
    "pythonIndentUnit": 4
   },
   "notebookName": "2_Bronze_to_Silver",
   "widgets": {}
  },
  "language_info": {
   "name": "python"
  }
 },
 "nbformat": 4,
 "nbformat_minor": 0
}
